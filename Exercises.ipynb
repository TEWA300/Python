{
 "cells": [
  {
   "cell_type": "markdown",
   "id": "af419c8d",
   "metadata": {},
   "source": [
    "Before you turn this problem in, make sure everything runs as expected. First, **restart the kernel** (in the menubar, select Kernel$\\rightarrow$Restart) and then **run all cells** (in the menubar, select Cell$\\rightarrow$Run All).\n",
    "\n",
    "Make sure you fill in any place that says `YOUR CODE HERE` or \"YOUR ANSWER HERE\", as well as your name and collaborators below:"
   ]
  },
  {
   "cell_type": "code",
   "execution_count": null,
   "id": "b77e8bf4",
   "metadata": {},
   "outputs": [],
   "source": [
    "NAME = \"Tejas Yeshwantrao Wandile\"\n",
    "COLLABORATORS = \"\""
   ]
  },
  {
   "cell_type": "markdown",
   "id": "3faa0451",
   "metadata": {},
   "source": [
    "---"
   ]
  },
  {
   "cell_type": "code",
   "execution_count": null,
   "id": "surprised-plant",
   "metadata": {
    "deletable": false,
    "nbgrader": {
     "cell_type": "code",
     "checksum": "63fcea3823685cff62cd258e581e2691",
     "grade": false,
     "grade_id": "cell-29d848ad7ec80b15",
     "locked": false,
     "schema_version": 3,
     "solution": true,
     "task": false
    }
   },
   "outputs": [],
   "source": [
    "# Exercise 1\n",
    "def is_palindrome(input_string):\n",
    "    # Complete this function to determine if the input_string is a palindrome. Return True or False\n",
    "    # Use square brackets to reverse the input_string! Make sure to lower the input string before testing!\n",
    "    \n",
    "    lower_str = input_string.lower()\n",
    "    reverse_str = lower_str[::-1]\n",
    "    if lower_str == reverse_str:\n",
    "        return True\n",
    "    else:\n",
    "        return False"
   ]
  },
  {
   "cell_type": "code",
   "execution_count": null,
   "id": "sustainable-oracle",
   "metadata": {
    "deletable": false,
    "editable": false,
    "nbgrader": {
     "cell_type": "code",
     "checksum": "cabf333e757ab920b5ce053a0ab98837",
     "grade": true,
     "grade_id": "cell-20dd267f296c8074",
     "locked": true,
     "points": 3,
     "schema_version": 3,
     "solution": false,
     "task": false
    }
   },
   "outputs": [],
   "source": [
    "# Test cell  for exercise 1\n",
    "assert is_palindrome(\"Kayak\") == True\n",
    "assert is_palindrome(\"Rotator\") == True\n",
    "assert is_palindrome(\"AACA\") == False\n"
   ]
  },
  {
   "cell_type": "code",
   "execution_count": null,
   "id": "rational-andrews",
   "metadata": {
    "deletable": false,
    "editable": false,
    "nbgrader": {
     "cell_type": "code",
     "checksum": "d1561662b4473b3fc2a85a0cbfb15d1e",
     "grade": true,
     "grade_id": "cell-011ea97b9fa805a5",
     "locked": true,
     "points": 3,
     "schema_version": 3,
     "solution": false,
     "task": false
    }
   },
   "outputs": [],
   "source": [
    "# Test cell  for exercise 1 (hidden)"
   ]
  },
  {
   "cell_type": "code",
   "execution_count": null,
   "id": "olympic-regression",
   "metadata": {
    "deletable": false,
    "nbgrader": {
     "cell_type": "code",
     "checksum": "6f59d5936deab36fafeb2e7d0ac3676f",
     "grade": false,
     "grade_id": "cell-d344708f226ea451",
     "locked": false,
     "schema_version": 3,
     "solution": true,
     "task": false
    }
   },
   "outputs": [],
   "source": [
    "# Exercise 2: Season from Month and Day\n",
    "def determine_season(month, day):\n",
    "\n",
    "    # The year is divided into four season: spring, summer, fall (or autumn) and winter.\n",
    "    # While the exact dates that the seasons change vary a little bit from year to\n",
    "    # year because of the way that the calender is constructed, we will use the following\n",
    "    # dates for this exercise:\n",
    "\n",
    "    # Season  -- First Day\n",
    "    # Spring  -- March 20\n",
    "    # Summer  -- June 21\n",
    "    # Fall  -- September 22\n",
    "    # Winter    -- December 21\n",
    "\n",
    "    # Complete this function which takes in as inputs a month and day. It should\n",
    "    # output the season.\n",
    "    # input 1: month -- str\n",
    "    # input 2: day -- int\n",
    "\n",
    "    # output: month -- str (Spring, Summer, Fall, Winter)\n",
    "    import datetime\n",
    "    months = ['January', 'February', 'March', 'April', 'May', 'June', 'July', 'August', 'September', 'October', 'November', 'December']\n",
    "    index = months.index(month)+1\n",
    "    d1 = datetime.datetime(2018,index, day)\n",
    "    March20 = datetime.datetime(2018, 3, 20)\n",
    "    June21 = datetime.datetime(2018, 6, 21)\n",
    "    September22 = datetime.datetime(2018, 9, 22)\n",
    "    December21 = datetime.datetime(2018, 12, 21)\n",
    "    if d1 < March20:\n",
    "        return \"Winter\"\n",
    "    elif d1 >= March20 and d1< June21:\n",
    "        return \"Spring\"\n",
    "    elif d1 >= June21 and d1 < September22:\n",
    "        return \"Summer\"\n",
    "    elif d1 >= September22 and d1 < December21:\n",
    "        return \"Fall\"\n",
    "    #print(index)\n",
    "    print(d1)"
   ]
  },
  {
   "cell_type": "code",
   "execution_count": null,
   "id": "spare-madison",
   "metadata": {
    "deletable": false,
    "editable": false,
    "nbgrader": {
     "cell_type": "code",
     "checksum": "98e4ad7e39d1cd4c264dc95a5db80d9b",
     "grade": true,
     "grade_id": "cell-264aab0e7ab82be4",
     "locked": true,
     "points": 4,
     "schema_version": 3,
     "solution": false,
     "task": false
    }
   },
   "outputs": [],
   "source": [
    "# Test cell  for exercise 2\n",
    "assert determine_season('March', 21) == 'Spring'\n",
    "assert determine_season('June', 21) == 'Summer'\n",
    "assert determine_season('November', 21) == 'Fall'\n",
    "assert determine_season('January', 21) == 'Winter'"
   ]
  },
  {
   "cell_type": "code",
   "execution_count": null,
   "id": "neutral-albuquerque",
   "metadata": {
    "deletable": false,
    "editable": false,
    "nbgrader": {
     "cell_type": "code",
     "checksum": "2b8c9685107f6460f4223f5f16c628aa",
     "grade": true,
     "grade_id": "cell-5aa9eaa720eeab1e",
     "locked": true,
     "points": 4,
     "schema_version": 3,
     "solution": false,
     "task": false
    }
   },
   "outputs": [],
   "source": [
    "# Test cell  for exercise 2 (hidden)"
   ]
  },
  {
   "cell_type": "code",
   "execution_count": null,
   "id": "judicial-scheduling",
   "metadata": {
    "deletable": false,
    "nbgrader": {
     "cell_type": "code",
     "checksum": "8675856b43786622ae85d4494a8bef64",
     "grade": false,
     "grade_id": "cell-f8bbb086e9047977",
     "locked": false,
     "schema_version": 3,
     "solution": true,
     "task": false
    }
   },
   "outputs": [],
   "source": [
    "#Exercise 3: Check a password\n",
    "\n",
    "def check_password(password):\n",
    "\n",
    "    # In this exercise you will complete this function to determine whether or not\n",
    "    # a password is good. We will define a good password to be a one that is at least\n",
    "    # 8 characters long and contains at least one uppercase letter, at least one lowercase\n",
    "    # letter, and at least one number. This function should return True if the password\n",
    "    # passed to it as its only parameter is good. Otherwise it should return False. \n",
    "    #\n",
    "    # input: password (str)\n",
    "    # output: True or False (bool)\n",
    "    \n",
    "    def checkPassword(password):\n",
    "        lower = False\n",
    "        upper = False\n",
    "        length = False\n",
    "        digit = False\n",
    "        for ch in password:\n",
    "            if ch.isupper():\n",
    "                upper = True\n",
    "            if ch.islower():\n",
    "                lower = True\n",
    "            if ch.isdigit():\n",
    "                digit = True\n",
    "                \n",
    "        if len(password) >= 8:\n",
    "            length = True\n",
    "            \n",
    "        if(upper and lower and length and digit):\n",
    "            return True\n",
    "         \n",
    "        return False\n",
    "\n",
    "    \n",
    "\n",
    "    if checkPassword(password):\n",
    "        return True\n",
    "    return False\n",
    "\n",
    "\n"
   ]
  },
  {
   "cell_type": "code",
   "execution_count": null,
   "id": "varied-yeast",
   "metadata": {
    "deletable": false,
    "editable": false,
    "nbgrader": {
     "cell_type": "code",
     "checksum": "afff6f21110c267040ac0c160a8323f4",
     "grade": true,
     "grade_id": "cell-1b60abed8b8bc04b",
     "locked": true,
     "points": 4,
     "schema_version": 3,
     "solution": false,
     "task": false
    }
   },
   "outputs": [],
   "source": [
    "# Test cell  for exercise 3\n",
    "assert check_password('test1234') == False\n",
    "assert check_password('password123') == False\n",
    "assert check_password('SuperPasswrd90') == True\n",
    "assert check_password('letmein!') == False\n"
   ]
  },
  {
   "cell_type": "code",
   "execution_count": null,
   "id": "moderate-header",
   "metadata": {
    "deletable": false,
    "editable": false,
    "nbgrader": {
     "cell_type": "code",
     "checksum": "9b8a4427e8de8fe15f83ce6998b4c5a1",
     "grade": true,
     "grade_id": "cell-7eaad572678f3ec3",
     "locked": true,
     "points": 4,
     "schema_version": 3,
     "solution": false,
     "task": false
    }
   },
   "outputs": [],
   "source": [
    "# Test cell  for exercise 3\n"
   ]
  },
  {
   "cell_type": "code",
   "execution_count": 2,
   "id": "compliant-economy",
   "metadata": {
    "deletable": false,
    "nbgrader": {
     "cell_type": "code",
     "checksum": "d0bdde993a8557ad0cef99f0134060cd",
     "grade": false,
     "grade_id": "cell-a2d16a8840027f58",
     "locked": false,
     "schema_version": 3,
     "solution": true,
     "task": false
    }
   },
   "outputs": [],
   "source": [
    "# Exercise 4\n",
    "def average_word_len_in_sentence(sentence):\n",
    "    # Complete this function to calculate the average\n",
    "    # word length in a sentence\n",
    "    # Input: sentence\n",
    "    # Output: average word length in sentence\n",
    "    # Hint: count punctuations with whatever word they are `touching`\n",
    "    # Hint: round the average to two decimal places\n",
    "    \n",
    "    words = sentence.split();\n",
    "    count = 0\n",
    "    for ch in words:\n",
    "        count += len(ch)\n",
    "    return round(count/len(words),2)\n",
    "    "
   ]
  },
  {
   "cell_type": "code",
   "execution_count": 4,
   "id": "e31cc535",
   "metadata": {},
   "outputs": [
    {
     "name": "stdout",
     "output_type": "stream",
     "text": [
      "4.0\n"
     ]
    }
   ],
   "source": [
    "average_word_len_in_sentence(\"This is a test sentence!\")"
   ]
  },
  {
   "cell_type": "code",
   "execution_count": 5,
   "id": "classical-livestock",
   "metadata": {
    "deletable": false,
    "editable": false,
    "nbgrader": {
     "cell_type": "code",
     "checksum": "5b9c50ee78c5c8f5b744bf700ee62018",
     "grade": true,
     "grade_id": "cell-b0fb7835c133ea39",
     "locked": true,
     "points": 1,
     "schema_version": 3,
     "solution": false,
     "task": false
    }
   },
   "outputs": [
    {
     "name": "stdout",
     "output_type": "stream",
     "text": [
      "4.0\n"
     ]
    },
    {
     "ename": "AssertionError",
     "evalue": "",
     "output_type": "error",
     "traceback": [
      "\u001b[0;31m---------------------------------------------------------------------------\u001b[0m",
      "\u001b[0;31mAssertionError\u001b[0m                            Traceback (most recent call last)",
      "\u001b[0;32m/tmp/ipykernel_346799/2466448239.py\u001b[0m in \u001b[0;36m<module>\u001b[0;34m\u001b[0m\n\u001b[1;32m      1\u001b[0m \u001b[0;31m# Text cell for Exercise 4\u001b[0m\u001b[0;34m\u001b[0m\u001b[0;34m\u001b[0m\u001b[0;34m\u001b[0m\u001b[0m\n\u001b[0;32m----> 2\u001b[0;31m \u001b[0;32massert\u001b[0m \u001b[0maverage_word_len_in_sentence\u001b[0m\u001b[0;34m(\u001b[0m\u001b[0;34m'This is a test sentence!'\u001b[0m\u001b[0;34m)\u001b[0m \u001b[0;34m==\u001b[0m \u001b[0;36m4\u001b[0m\u001b[0;34m\u001b[0m\u001b[0;34m\u001b[0m\u001b[0m\n\u001b[0m",
      "\u001b[0;31mAssertionError\u001b[0m: "
     ]
    }
   ],
   "source": [
    "# Text cell for Exercise 4 \n",
    "assert average_word_len_in_sentence('This is a test sentence!') == 4"
   ]
  },
  {
   "cell_type": "code",
   "execution_count": null,
   "id": "prepared-substance",
   "metadata": {
    "deletable": false,
    "editable": false,
    "nbgrader": {
     "cell_type": "code",
     "checksum": "dafc4ab57acd596b6242d09bb4b99ef3",
     "grade": true,
     "grade_id": "cell-f4ef1dd8731cf063",
     "locked": true,
     "points": 1,
     "schema_version": 3,
     "solution": false,
     "task": false
    }
   },
   "outputs": [],
   "source": [
    "# Text cell for Exercise 4(hidden)"
   ]
  },
  {
   "cell_type": "code",
   "execution_count": null,
   "id": "ancient-forward",
   "metadata": {
    "deletable": false,
    "nbgrader": {
     "cell_type": "code",
     "checksum": "ebf00814e1e73555d41583c5e5a791e3",
     "grade": false,
     "grade_id": "cell-8530a32cd73998fd",
     "locked": false,
     "schema_version": 3,
     "solution": true,
     "task": false
    }
   },
   "outputs": [],
   "source": [
    "#Exercise 5\n",
    "def wc(filename):\n",
    "    # Complete this function to count the number of lines, words, and chars in a file. \n",
    "    # Input: filename\n",
    "    # Output: a tuple with line count, word count, and char count -- in this order\n",
    "\n",
    "\n",
    "    count_lines = 0\n",
    "    count_words = 0\n",
    "    count_chars = 0\n",
    "\n",
    "    with open(filename, 'r') as f:\n",
    "        for line in f:\n",
    "            words = line.split()\n",
    "\n",
    "            count_lines += 1\n",
    "            count_words += len(words)\n",
    "            count_chars += len(line)\n",
    "            \n",
    "    return (count_lines, count_words, count_chars)\n"
   ]
  },
  {
   "cell_type": "code",
   "execution_count": null,
   "id": "removed-coupon",
   "metadata": {
    "deletable": false,
    "editable": false,
    "nbgrader": {
     "cell_type": "code",
     "checksum": "8f68841b1c9fdc8ebd5dfb435bdb080f",
     "grade": true,
     "grade_id": "cell-ec3e9bad05323884",
     "locked": true,
     "points": 4,
     "schema_version": 3,
     "solution": false,
     "task": false
    }
   },
   "outputs": [],
   "source": [
    "# Text cell for Exercise 5 \n",
    "assert wc('ex5_data.txt') == (50, 643, 4298)"
   ]
  },
  {
   "cell_type": "code",
   "execution_count": 424,
   "id": "executive-sound",
   "metadata": {
    "deletable": false,
    "nbgrader": {
     "cell_type": "code",
     "checksum": "0e470176299b51e61785f3de3e1baa94",
     "grade": false,
     "grade_id": "cell-b9a248dad483a440",
     "locked": false,
     "schema_version": 3,
     "solution": true,
     "task": false
    }
   },
   "outputs": [],
   "source": [
    "# Exercise 6 \n",
    "def is_leap(year):\n",
    "    # Complete this function to check if year is a leap year\n",
    "    # Input: year\n",
    "    # Output: True or False (Boolean)\n",
    "\n",
    "    if (year % 4) == 0:\n",
    "        if (year % 100) == 0:\n",
    "            if (year % 400) == 0:\n",
    "                return True\n",
    "            else:\n",
    "                return False\n",
    "        else:\n",
    "            return True\n",
    "    else:\n",
    "        return False"
   ]
  },
  {
   "cell_type": "code",
   "execution_count": 425,
   "id": "broad-calvin",
   "metadata": {
    "deletable": false,
    "editable": false,
    "nbgrader": {
     "cell_type": "code",
     "checksum": "808dbadb81fd84fc6f1e8bed1e3d290d",
     "grade": true,
     "grade_id": "cell-06fadd121addbb69",
     "locked": true,
     "points": 4,
     "schema_version": 3,
     "solution": false,
     "task": false
    }
   },
   "outputs": [],
   "source": [
    "# Text cell for Exercise 6\n",
    "assert is_leap(1800) == False\n",
    "assert is_leap(1900) == False\n",
    "assert is_leap(1600) == True\n",
    "assert is_leap(2000) == True"
   ]
  },
  {
   "cell_type": "code",
   "execution_count": 426,
   "id": "atomic-extraction",
   "metadata": {
    "deletable": false,
    "nbgrader": {
     "cell_type": "code",
     "checksum": "033f9676d358e4bc174958700150dba8",
     "grade": false,
     "grade_id": "cell-39d284072956207c",
     "locked": false,
     "schema_version": 3,
     "solution": true,
     "task": false
    }
   },
   "outputs": [],
   "source": [
    "# Exercise 7\n",
    "def is_date_valid(month, day, year):\n",
    "    # Complete this function to check if a data is valid, given month, day, and year.  \n",
    "    # For example, 5/24/1962 is valid, but 9/31/2000 is not\n",
    "    # Inputs: month, day, year\n",
    "    # Output: True or False (Boolean)\n",
    "    # Hint: Use is_leap() year function from previous exercise\n",
    "    import datetime\n",
    "    \n",
    "    if(month==2):\n",
    "        if(is_leap(year)):\n",
    "            if(day<30):\n",
    "                return True\n",
    "            else:\n",
    "                return False\n",
    "        else:\n",
    "            if(day<29):\n",
    "                return True\n",
    "            else:\n",
    "                return False\n",
    "    elif(month%2==1 and month!=7):\n",
    "        if(day<31):\n",
    "            return True\n",
    "        else:\n",
    "            return False\n",
    "    elif(month%2==0 or month==7):\n",
    "        if (day<31):\n",
    "            return True\n",
    "        else:\n",
    "            return False\n"
   ]
  },
  {
   "cell_type": "code",
   "execution_count": 427,
   "id": "athletic-amateur",
   "metadata": {
    "deletable": false,
    "editable": false,
    "nbgrader": {
     "cell_type": "code",
     "checksum": "4f5206df74a53ba731299e3303e76e49",
     "grade": true,
     "grade_id": "cell-a8a1a1fa061bf04f",
     "locked": true,
     "points": 2,
     "schema_version": 3,
     "solution": false,
     "task": false
    }
   },
   "outputs": [],
   "source": [
    "# Text cell for Exercise 7\n",
    "assert is_date_valid(5, 24, 1962) == True\n",
    "assert is_date_valid(9, 31, 2000) == False"
   ]
  },
  {
   "cell_type": "code",
   "execution_count": 428,
   "id": "pointed-truth",
   "metadata": {
    "deletable": false,
    "editable": false,
    "nbgrader": {
     "cell_type": "code",
     "checksum": "5e8e61a123866774d48f3522ec71cdef",
     "grade": true,
     "grade_id": "cell-41144de972ffe16c",
     "locked": true,
     "points": 2,
     "schema_version": 3,
     "solution": false,
     "task": false
    }
   },
   "outputs": [],
   "source": [
    "# Text cell for Exercise 7 (hidden)"
   ]
  },
  {
   "cell_type": "code",
   "execution_count": 455,
   "id": "promotional-electronics",
   "metadata": {
    "deletable": false,
    "nbgrader": {
     "cell_type": "code",
     "checksum": "f0253edbca00682de463dd81a1c747be",
     "grade": false,
     "grade_id": "cell-f81b2e6e7e373643",
     "locked": false,
     "schema_version": 3,
     "solution": true,
     "task": false
    }
   },
   "outputs": [],
   "source": [
    "# Exercise 8\n",
    "def day_number(month, day, year):\n",
    "    # Complete this function to calculate the day_number given month, day, and year.\n",
    "    # Information: The days of the year are often numbered from 1 through 365 (or 366).\n",
    "    # This number can be computed in three steps using int arithmetic:\n",
    "    # (a) - day_num = 31 * (month - 1) + day\n",
    "    # (b) - if the month is after February subtract (4*(month)+23)//10\n",
    "    # (c) - if it's a leap year and after February 29, add 1\n",
    "    # Hint: First verify the input date is valid, return False if it is not valid; use is_date_valid\n",
    "    # Hint: Also use the is_leap function\n",
    "    # Inputs: month, day, year\n",
    "    # Output: the day number or False (boolean) if the date is invalid. \n",
    "    \n",
    "    if is_date_valid(month, day, year):\n",
    "        \n",
    "        if is_leap(year):\n",
    "            \n",
    "            if month > 2:\n",
    "                print('after feb')\n",
    "                return (31 * (month - 1) + day) - ((4*(month)+23)//10) + 1\n",
    "            else:\n",
    "                return (31 * (month - 1) + day)\n",
    "        else:\n",
    "            if month > 2:\n",
    "                return (31 * (month - 1) + day) - ((4*(month)+23)//10)\n",
    "            else:\n",
    "                return (31 * (month - 1) + day)\n",
    "    \n",
    "    else:\n",
    "        return False\n",
    "    \n",
    "\n"
   ]
  },
  {
   "cell_type": "code",
   "execution_count": 456,
   "id": "adapted-accident",
   "metadata": {
    "deletable": false,
    "editable": false,
    "nbgrader": {
     "cell_type": "code",
     "checksum": "721684e946ae046be2336804514f31b6",
     "grade": true,
     "grade_id": "cell-17f6517a21d32010",
     "locked": true,
     "points": 2,
     "schema_version": 3,
     "solution": false,
     "task": false
    }
   },
   "outputs": [],
   "source": [
    "# Text cell for Exercise 8\n",
    "assert day_number(9, 31, 2000) == False\n",
    "assert day_number(2, 13, 2020) == 44"
   ]
  },
  {
   "cell_type": "code",
   "execution_count": null,
   "id": "reported-elite",
   "metadata": {
    "deletable": false,
    "editable": false,
    "nbgrader": {
     "cell_type": "code",
     "checksum": "fc175f7342f8f65a2e43cc69d8796722",
     "grade": true,
     "grade_id": "cell-7bc040c625204f5d",
     "locked": true,
     "points": 2,
     "schema_version": 3,
     "solution": false,
     "task": false
    }
   },
   "outputs": [],
   "source": [
    "# Text cell for Exercise 8 (hidden)\n"
   ]
  },
  {
   "cell_type": "code",
   "execution_count": null,
   "id": "sticky-joining",
   "metadata": {
    "deletable": false,
    "nbgrader": {
     "cell_type": "code",
     "checksum": "b3770369897e268c5b3aba0739371747",
     "grade": false,
     "grade_id": "cell-c6da138b2c301741",
     "locked": false,
     "schema_version": 3,
     "solution": true,
     "task": false
    }
   },
   "outputs": [],
   "source": [
    "# Exercise 9\n",
    "def years_to_double_investment(apr):\n",
    "    # Complete this function to use a while loop to determine how long it takes for an investment \n",
    "    # to double at a given interest rate. The input to this function, apr, is the annualized interest rate\n",
    "    # and the output is the number of years it takes an investment to double. Note: The amount of the initial \n",
    "    # investment (principal) does not matter; you can use $1. \n",
    "    # Hint: principal is the amount of money being invested. \n",
    "    # apr is the annual percentage rate expressed as a decimal number.  \n",
    "    # Relationship: value after one year is given by principal * (1+ apr)\n",
    "    \n",
    "    principal_amount = 1\n",
    "    double_amount = principal_amount * 2\n",
    "    counter = 0\n",
    "    while principal_amount < double_amount:\n",
    "        principal_amount = principal_amount * (1 + apr)\n",
    "        counter = counter + 1\n",
    "    \n",
    "    return counter"
   ]
  },
  {
   "cell_type": "code",
   "execution_count": null,
   "id": "paperback-living",
   "metadata": {
    "deletable": false,
    "editable": false,
    "nbgrader": {
     "cell_type": "code",
     "checksum": "58fa174005f70ae19cef90c30ea70761",
     "grade": true,
     "grade_id": "cell-72afae6aca21e6bc",
     "locked": true,
     "points": 2,
     "schema_version": 3,
     "solution": false,
     "task": false
    }
   },
   "outputs": [],
   "source": [
    "# Text cell for Exercise 9\n",
    "assert years_to_double_investment(0.06) == 12\n",
    "assert years_to_double_investment(0.1) == 8"
   ]
  },
  {
   "cell_type": "code",
   "execution_count": 20,
   "id": "shared-paper",
   "metadata": {
    "deletable": false,
    "nbgrader": {
     "cell_type": "code",
     "checksum": "f3723915d9ac6883c97f15807a44b62c",
     "grade": false,
     "grade_id": "cell-56cac58d9d2e9e29",
     "locked": false,
     "schema_version": 3,
     "solution": true,
     "task": false
    }
   },
   "outputs": [],
   "source": [
    "# Exercise 10\n",
    "def stopping_time(n):\n",
    "    # Complete this function to return the number of steps taken to reach 1 in\n",
    "    # the Collatz sequence (https://en.wikipedia.org/wiki/Collatz_conjecture)\n",
    "\n",
    "    counter = 0\n",
    "    while n > 1:\n",
    "        if n%2==0:\n",
    "            n = n/2\n",
    "        elif n%2==1:\n",
    "            n = 3*n + 1\n",
    "        counter = counter  + 1\n",
    "    return counter\n"
   ]
  },
  {
   "cell_type": "code",
   "execution_count": 22,
   "id": "arranged-israeli",
   "metadata": {
    "deletable": false,
    "editable": false,
    "nbgrader": {
     "cell_type": "code",
     "checksum": "5cf4260e7f9317237a8994255145e397",
     "grade": true,
     "grade_id": "cell-49b3568073d3a498",
     "locked": true,
     "points": 2,
     "schema_version": 3,
     "solution": false,
     "task": false
    }
   },
   "outputs": [],
   "source": [
    "# Text cell for Exercise 10\n",
    "assert stopping_time(12) == 9\n",
    "assert stopping_time(27) == 111"
   ]
  },
  {
   "cell_type": "code",
   "execution_count": null,
   "id": "separated-vaccine",
   "metadata": {
    "deletable": false,
    "editable": false,
    "nbgrader": {
     "cell_type": "code",
     "checksum": "a4e81ef3cc195ed513246b26a6266f31",
     "grade": true,
     "grade_id": "cell-456f2e2dbffd8eb4",
     "locked": true,
     "points": 2,
     "schema_version": 3,
     "solution": false,
     "task": false
    }
   },
   "outputs": [],
   "source": [
    "# Text cell for Exercise 10 (hidden)"
   ]
  },
  {
   "cell_type": "code",
   "execution_count": 62,
   "id": "precious-fountain",
   "metadata": {
    "deletable": false,
    "nbgrader": {
     "cell_type": "code",
     "checksum": "840d7e0b6e92061f8a86adc7d716fe56",
     "grade": false,
     "grade_id": "cell-f4384c44ad837566",
     "locked": false,
     "schema_version": 3,
     "solution": true,
     "task": false
    }
   },
   "outputs": [],
   "source": [
    "# Exercise 11\n",
    "def is_prime(n):\n",
    "    # A positive whole number > 2 is prime if no number between 2 and sqrt(n)\n",
    "    # (include) evenly divides n. Write a program that accepts a value of n as\n",
    "    # input and determine if the value is prime. If n is not prime, your program should\n",
    "    # return False (boolean) as soon as it finds a value that evenly divides n.\n",
    "    # Hint: if number is 2, return False\n",
    "\n",
    "    import math\n",
    "    \n",
    "    if n == 2:\n",
    "        return False\n",
    "    for i in range(2,n):\n",
    "        if (n%i==0):\n",
    "            return False\n",
    "    return True\n",
    "    \n"
   ]
  },
  {
   "cell_type": "code",
   "execution_count": 64,
   "id": "blank-jumping",
   "metadata": {
    "deletable": false,
    "editable": false,
    "nbgrader": {
     "cell_type": "code",
     "checksum": "be45f5408c540d272aaf225915b4da60",
     "grade": true,
     "grade_id": "cell-380e24833be40496",
     "locked": true,
     "points": 4,
     "schema_version": 3,
     "solution": false,
     "task": false
    }
   },
   "outputs": [],
   "source": [
    "assert is_prime(2) == False\n",
    "assert is_prime(3) == True\n",
    "assert is_prime(5) == True\n",
    "assert is_prime(25) == False"
   ]
  },
  {
   "cell_type": "code",
   "execution_count": 76,
   "id": "dying-alert",
   "metadata": {
    "deletable": false,
    "nbgrader": {
     "cell_type": "code",
     "checksum": "3249a21e174f190f605f9f7458ed3920",
     "grade": false,
     "grade_id": "cell-c76793df293d546e",
     "locked": false,
     "schema_version": 3,
     "solution": true,
     "task": false
    }
   },
   "outputs": [],
   "source": [
    "# Exercise 12\n",
    "def all_primes(n):\n",
    "    # Complete this function to return all the primes as a list less than or equal to n\n",
    "    # Input: n\n",
    "    # Output: a list of numbers\n",
    "\n",
    "    output = []\n",
    "    for i in range(2,n+1):\n",
    "        if is_prime(i):\n",
    "            output.append(i)\n",
    "    return (output)"
   ]
  },
  {
   "cell_type": "code",
   "execution_count": 81,
   "id": "3206df44",
   "metadata": {},
   "outputs": [
    {
     "data": {
      "text/plain": [
       "[3, 5, 7, 11, 13, 17, 19]"
      ]
     },
     "execution_count": 81,
     "metadata": {},
     "output_type": "execute_result"
    }
   ],
   "source": [
    "all_primes(22)"
   ]
  },
  {
   "cell_type": "code",
   "execution_count": 75,
   "id": "advised-monaco",
   "metadata": {
    "deletable": false,
    "editable": false,
    "nbgrader": {
     "cell_type": "code",
     "checksum": "a4738fbce5186844e43c2c4974eeb79f",
     "grade": true,
     "grade_id": "cell-4f2b15776e494bec",
     "locked": true,
     "points": 2,
     "schema_version": 3,
     "solution": false,
     "task": false
    }
   },
   "outputs": [],
   "source": [
    "assert all_primes(5) == [3, 5]\n",
    "assert all_primes(25) == [3, 5, 7, 11, 13, 17, 19, 23]"
   ]
  },
  {
   "cell_type": "code",
   "execution_count": 57,
   "id": "stunning-church",
   "metadata": {
    "deletable": false,
    "nbgrader": {
     "cell_type": "code",
     "checksum": "492bdca32d90f823c552a056bbeaa92a",
     "grade": false,
     "grade_id": "cell-422eed1aa7cba70e",
     "locked": false,
     "schema_version": 3,
     "solution": true,
     "task": false
    }
   },
   "outputs": [],
   "source": [
    "# Exercise 13\n",
    "def gcd(m,n):\n",
    "    # Complete this function to determine the greatest common divisor (GCD). \n",
    "    # The GCD of two values can be computed using Euclid's algorithm. Starting with the values\n",
    "    # m and n, we repeatedly apply the formula: n, m = m, n%m until m is 0. At this point, n is the GCD\n",
    "    # of the original m and n. \n",
    "    # Inputs: m and n which are both natural numbers\n",
    "    # Output: gcd\n",
    "\n",
    "    if m == 0:\n",
    "        #print(n)\n",
    "        return n\n",
    "    elif n == 0:\n",
    "        #print(m)\n",
    "        return m\n",
    "    elif m > n:\n",
    "        reminder = m % n\n",
    "        quotient = round(m/n)\n",
    "        m = n\n",
    "        n = reminder\n",
    "        return gcd(m,n)\n",
    "    else:\n",
    "        reminder = n % m\n",
    "        quotient = round(n/m)\n",
    "        n = m\n",
    "        m = reminder\n",
    "        return gcd(n,m)\n",
    "    \n"
   ]
  },
  {
   "cell_type": "code",
   "execution_count": 60,
   "id": "lasting-lecture",
   "metadata": {
    "deletable": false,
    "editable": false,
    "nbgrader": {
     "cell_type": "code",
     "checksum": "9533f93dc2c8966eee6fb59aa56db892",
     "grade": true,
     "grade_id": "cell-6b64b0d91c4fc163",
     "locked": true,
     "points": 2,
     "schema_version": 3,
     "solution": false,
     "task": false
    }
   },
   "outputs": [],
   "source": [
    "# Exercise 13 test cell\n",
    "assert gcd(25,75) == 25\n",
    "assert gcd(3,13) == 1"
   ]
  },
  {
   "cell_type": "code",
   "execution_count": 61,
   "id": "hourly-equity",
   "metadata": {
    "deletable": false,
    "editable": false,
    "nbgrader": {
     "cell_type": "code",
     "checksum": "7eec67919d5bfeeecd5f9bb359582489",
     "grade": true,
     "grade_id": "cell-8d7e1f17c10c874a",
     "locked": true,
     "points": 2,
     "schema_version": 3,
     "solution": false,
     "task": false
    }
   },
   "outputs": [],
   "source": [
    "# Exercise 13 test cell (hidden)"
   ]
  },
  {
   "cell_type": "code",
   "execution_count": 89,
   "id": "american-anaheim",
   "metadata": {
    "deletable": false,
    "nbgrader": {
     "cell_type": "code",
     "checksum": "d60215c3c36c836eff65ef51787cfb78",
     "grade": false,
     "grade_id": "cell-f0805833c03d7236",
     "locked": false,
     "schema_version": 3,
     "solution": true,
     "task": false
    }
   },
   "outputs": [],
   "source": [
    "# Exercise 14 \n",
    "def determine_min_max_average(filename):\n",
    "    # Complete this function to read grades from a file and determine the student with the highest average \n",
    "    # test grades and the lowest average test grades. \n",
    "    # Input: filename\n",
    "    # Output: a tuple containing four elements: name of student with highest average, their average, \n",
    "    # name of the student with the lowest test grade, and their average. Example ('Student1', 99.50, 'Student5', 65.50)\n",
    "    # Hint: Round to two decimal places\n",
    "\n",
    "    splited_line = []\n",
    "    i=0\n",
    "    highest_avg=99999.99\n",
    "    highest_avg_student=0\n",
    "    lowest_avg=00.00\n",
    "    lowest_avg_student=0\n",
    "    with open(filename, 'r') as f:\n",
    "        for line in f:\n",
    "            if i%2==0:\n",
    "                splited_line.append(line.split(\",\"))\n",
    "            i = i + 1\n",
    "        \n",
    "        firstLine = 0\n",
    "        for i in splited_line:\n",
    "            #print((i))\n",
    "            counter=0\n",
    "            avg=0\n",
    "            for j in i:\n",
    "                if counter==0:\n",
    "                    counter = 1\n",
    "                    continue\n",
    "                avg = avg + int(j)\n",
    "            avg = round(avg/(len(i)-1),2)\n",
    "            if firstLine == 0:\n",
    "                highest_avg = avg\n",
    "                lowest_avg = avg\n",
    "                firstLine = 1\n",
    "            elif firstLine > 0:\n",
    "                if highest_avg < avg:\n",
    "                    highest_avg = avg\n",
    "                    highest_avg_student = i[0]\n",
    "                if lowest_avg > avg:\n",
    "                    lowest_avg = avg\n",
    "                    lowest_avg_student = i[0]\n",
    "                firstLine = 2\n",
    "        return (highest_avg_student, highest_avg , lowest_avg_student, lowest_avg)\n",
    "        \n",
    "                "
   ]
  },
  {
   "cell_type": "code",
   "execution_count": 90,
   "id": "signal-developer",
   "metadata": {
    "deletable": false,
    "editable": false,
    "nbgrader": {
     "cell_type": "code",
     "checksum": "14b4325ee97e4835596c22b3853a98d5",
     "grade": true,
     "grade_id": "cell-3c5bbcda431bee8f",
     "locked": true,
     "points": 4,
     "schema_version": 3,
     "solution": false,
     "task": false
    }
   },
   "outputs": [],
   "source": [
    "# Exercise 14 test cell\n",
    "assert determine_min_max_average('ex14_data.txt') == ('student733', 86.2, 'student202', 65.4)"
   ]
  },
  {
   "cell_type": "code",
   "execution_count": 212,
   "id": "theoretical-income",
   "metadata": {
    "deletable": false,
    "nbgrader": {
     "cell_type": "code",
     "checksum": "f5647a5c525739e8bbc1defcb7fc7464",
     "grade": false,
     "grade_id": "cell-ada31fff96cdef7c",
     "locked": false,
     "schema_version": 3,
     "solution": true,
     "task": false
    }
   },
   "outputs": [],
   "source": [
    "# Ex15:Is a License Plate Valid?\n",
    "\n",
    "def is_license_plate_valid(plate):\n",
    "\n",
    "    # In a particular jurisdiction, older license plates consist of three uppercase\n",
    "    # letters followed by three digits. When all of the license plates following\n",
    "    # that pattern had been used, the format was changed to four digits followed by\n",
    "    # three uppercase letters. \n",
    "\n",
    "    # Complete this function whose only input is a license plate and its output\n",
    "    # is: 1) Older/Valid 2) Newer/Valid 3) Invalid\n",
    "    # input: plate (str)\n",
    "    # output: 'Older/Valid' or 'Newer/Valid' or 'Invalid'\n",
    "\n",
    "    upper_char = 0\n",
    "    number_char = 0\n",
    "    \n",
    "    if plate[0].isalpha() and plate[0].isupper():\n",
    "        if (check_upper(plate) == True):\n",
    "            return ('Older/Valid')\n",
    "        else:\n",
    "            return ('Invalid')\n",
    "                \n",
    "    elif plate[0].isnumeric():\n",
    "        if check_num_new(plate) == True:\n",
    "            return ('Newer/Valid')\n",
    "        else:\n",
    "            return ('Invalid')\n",
    "    else:\n",
    "        return ('Invalid')\n",
    "        \n",
    "def check_upper(str):\n",
    "    counter = 0\n",
    "    for i in str:\n",
    "        if i.isalpha() :\n",
    "            if i.isupper():\n",
    "                counter = counter + 1\n",
    "            else:\n",
    "                return 'Invalid'\n",
    "        else:\n",
    "            if counter == 3 or counter == 4:\n",
    "                return (check_num(counter, str))\n",
    "                break\n",
    "            else:\n",
    "                return 'Invalid'\n",
    "def check_num(index, str):\n",
    "    counter = 0\n",
    "    for i in range(index, len(str)):\n",
    "        if str[i].isalpha():\n",
    "            return 'Invalid'\n",
    "        else:\n",
    "            counter = counter + 1\n",
    "    if counter == 3:\n",
    "        return True\n",
    "    else:\n",
    "        return 'Invalid'\n",
    "    \n",
    "def check_num_new(str):\n",
    "    counter = 0\n",
    "    for i in str:\n",
    "        if i.isnumeric():\n",
    "            counter = counter + 1\n",
    "        else:\n",
    "            if counter < 4 or counter > 4:\n",
    "                return 'Invalid'\n",
    "    if counter == 4:\n",
    "        return check_upper_new(counter, str)\n",
    "    else:\n",
    "        return 'Invalid'\n",
    "    \n",
    "def check_upper_new(index, str):\n",
    "    counter = 0\n",
    "    for i in range(index, len(str)):\n",
    "        if str[i].isalpha() and str[i].isupper():\n",
    "            counter = counter + 1\n",
    "            \n",
    "        else:\n",
    "            return 'Invalid'\n",
    "    if counter == 3:\n",
    "        return True\n",
    "    else:\n",
    "        return 'Invalid'\n"
   ]
  },
  {
   "cell_type": "code",
   "execution_count": 225,
   "id": "0ffc1190",
   "metadata": {},
   "outputs": [
    {
     "data": {
      "text/plain": [
       "'Newer/Valid'"
      ]
     },
     "execution_count": 225,
     "metadata": {},
     "output_type": "execute_result"
    }
   ],
   "source": [
    "is_license_plate_valid('1243ACV')"
   ]
  },
  {
   "cell_type": "code",
   "execution_count": 218,
   "id": "national-booth",
   "metadata": {
    "deletable": false,
    "editable": false,
    "nbgrader": {
     "cell_type": "code",
     "checksum": "f2a3b013649ec3d04c4e2059fdd11ebd",
     "grade": true,
     "grade_id": "cell-a9212cfd8c67cd1b",
     "locked": true,
     "points": 4,
     "schema_version": 3,
     "solution": false,
     "task": false
    }
   },
   "outputs": [],
   "source": [
    "# Exercise 15 test cell\n",
    "assert is_license_plate_valid('ABC123') == 'Older/Valid'\n",
    "assert is_license_plate_valid('GHE952') == 'Older/Valid'\n",
    "assert is_license_plate_valid('1934ABT') == 'Newer/Valid'\n",
    "assert is_license_plate_valid('bTR342') == 'Invalid'"
   ]
  },
  {
   "cell_type": "code",
   "execution_count": 215,
   "id": "coupled-blake",
   "metadata": {
    "deletable": false,
    "editable": false,
    "nbgrader": {
     "cell_type": "code",
     "checksum": "7e37ae67b415105cc58ad420247d54a8",
     "grade": true,
     "grade_id": "cell-ad96fa5eef4cb6eb",
     "locked": true,
     "points": 4,
     "schema_version": 3,
     "solution": false,
     "task": false
    }
   },
   "outputs": [],
   "source": [
    "# Exercise 15 test cell (hidden)"
   ]
  },
  {
   "cell_type": "code",
   "execution_count": 249,
   "id": "charming-creativity",
   "metadata": {
    "deletable": false,
    "nbgrader": {
     "cell_type": "code",
     "checksum": "c0d852bf422fe15b1cb7023876c0b354",
     "grade": false,
     "grade_id": "cell-b80e27c063f45d08",
     "locked": false,
     "schema_version": 3,
     "solution": true,
     "task": false
    }
   },
   "outputs": [],
   "source": [
    "# Ex16: Magic dates\n",
    "\n",
    "def is_magic_date(date):\n",
    "    # A magic date is a date where the day multiplied by the month is equal \n",
    "    # to the two digit year. For example, June 10, 1960 is a magic date because\n",
    "    # June is the sixth month, and 6 times 10 is 60, which is equal to the two\n",
    "    # digit year. Complete this function to determine whether or not a date is\n",
    "    # a magic date.\n",
    "\n",
    "    # input: date (str -- month/day/year)\n",
    "    # output: True or False (bool)\n",
    "\n",
    "    month,day,year=date.split('/')\n",
    "    if int(month)*int(day) == abs(int(year)) % 100:\n",
    "        return True\n",
    "    "
   ]
  },
  {
   "cell_type": "code",
   "execution_count": 250,
   "id": "52c9fc64",
   "metadata": {},
   "outputs": [
    {
     "data": {
      "text/plain": [
       "True"
      ]
     },
     "execution_count": 250,
     "metadata": {},
     "output_type": "execute_result"
    }
   ],
   "source": [
    "is_magic_date('6/10/1960')"
   ]
  },
  {
   "cell_type": "code",
   "execution_count": 251,
   "id": "sized-convert",
   "metadata": {
    "deletable": false,
    "editable": false,
    "nbgrader": {
     "cell_type": "code",
     "checksum": "79ecd5c8ccae48e0986440853bbed10b",
     "grade": true,
     "grade_id": "cell-01925812ea2e68b2",
     "locked": true,
     "points": 2,
     "schema_version": 3,
     "solution": false,
     "task": false
    }
   },
   "outputs": [],
   "source": [
    "# Exercise 16 test cell\n",
    "assert is_magic_date('6/10/1960') == True\n",
    "assert is_magic_date('6/8/1948') == True"
   ]
  },
  {
   "cell_type": "code",
   "execution_count": 293,
   "id": "critical-musical",
   "metadata": {
    "deletable": false,
    "nbgrader": {
     "cell_type": "code",
     "checksum": "187309d7e7fb9a84f3135463e3c9b4bd",
     "grade": false,
     "grade_id": "cell-032789542acbe1e5",
     "locked": false,
     "schema_version": 3,
     "solution": true,
     "task": false
    }
   },
   "outputs": [],
   "source": [
    "# Ex17\n",
    "def remove_outliers(data, num_outliers):\n",
    "    # When analyzing data collected as a part of a science experiment it \n",
    "    # may be desriable to remove the most extreme values before performing\n",
    "    # other calculations. Complete this function which takes a list of\n",
    "    # values and an non-negative integer, num_outliers, as its parameters.\n",
    "    # The function should create a new copy of the list with the num_outliers \n",
    "    # largest elements and the num_outliers smallest elements removed. \n",
    "    # Then it should return teh new copy of the list as the function's only \n",
    "    # result. The order of the elements in the returned list does not have to\n",
    "    # match the order of the lemetns in the original list.\n",
    "    # input1: data (list)\n",
    "    # input2: num_outliers (int)\n",
    "\n",
    "    # output: list\n",
    "\n",
    "\n",
    "    data.sort()\n",
    "    data = data[:-2]\n",
    "    i = num_outliers\n",
    "    while i > 0:\n",
    "        del data[0]\n",
    "        i = i - 1\n",
    "    return data\n"
   ]
  },
  {
   "cell_type": "code",
   "execution_count": 294,
   "id": "outdoor-native",
   "metadata": {
    "deletable": false,
    "editable": false,
    "nbgrader": {
     "cell_type": "code",
     "checksum": "3fe64716efc18b2e3a572649c1b4290d",
     "grade": true,
     "grade_id": "cell-60da9757f2f02a8f",
     "locked": true,
     "points": 4,
     "schema_version": 3,
     "solution": false,
     "task": false
    }
   },
   "outputs": [],
   "source": [
    "# Exercise 17 test cell\n",
    "import random\n",
    "random.seed(1234)\n",
    "data = [random.randint(50, 150) for ele in range(100)]\n",
    "data[45] = 1\n",
    "data[46] = 2\n",
    "data[90] = 250\n",
    "data[34] = 300\n",
    "\n",
    "result = [50, 50, 51, 52, 52, 52, 53, 53, 54, \n",
    "55, 55, 55, 55, 56, 58, 58, 59, 59, 59, 60, 61, 61, \n",
    "61, 62, 64, 64, 64, 68, 68, 68, 69, 69, 69, 70, 71, \n",
    "72, 73, 75, 77, 80, 81, 81, 84, 84, 84, 85, 88, 88, 89, \n",
    "92, 94, 94, 95, 95, 98, 103, 106, 108, 108, 109, 109, 109, \n",
    "110, 111, 111, 112, 113, 114, 115, 115, 117, 117, 119, 121, \n",
    "124, 124, 125, 126, 128, 129, 132, 132, 133, 134, 135, 135, \n",
    "135, 136, 138, 140, 141, 148, 148, 149, 149, 150]\n",
    "\n",
    "assert remove_outliers(data, 2) == result\n"
   ]
  },
  {
   "cell_type": "code",
   "execution_count": 292,
   "id": "rural-saturday",
   "metadata": {
    "deletable": false,
    "editable": false,
    "nbgrader": {
     "cell_type": "code",
     "checksum": "4b0f84928f59ed8d4e9c8d5b57009bdf",
     "grade": true,
     "grade_id": "cell-cd91dc245cfce54c",
     "locked": true,
     "points": 4,
     "schema_version": 3,
     "solution": false,
     "task": false
    }
   },
   "outputs": [],
   "source": [
    "# Exercise 17 test cell (hidden)\n"
   ]
  },
  {
   "cell_type": "code",
   "execution_count": 301,
   "id": "amazing-deficit",
   "metadata": {
    "deletable": false,
    "nbgrader": {
     "cell_type": "code",
     "checksum": "a2a6fa0f9291426c77024f246aff592c",
     "grade": false,
     "grade_id": "cell-ae1c664601ab69b7",
     "locked": false,
     "schema_version": 3,
     "solution": true,
     "task": false
    }
   },
   "outputs": [],
   "source": [
    "# Ex18: Removing duplicates\n",
    "\n",
    "def remove_duplicates(words):\n",
    "    # Complete this function to remove duplicates from the words list using a loop\n",
    "    # input: words (list)\n",
    "    # output: a list without duplicates\n",
    "    # MUST USE loop and NOT set!\n",
    "\n",
    "    result = []\n",
    "    for i in words:\n",
    "        if i not in result:\n",
    "            result.append(i)\n",
    "    return result\n",
    "\n"
   ]
  },
  {
   "cell_type": "code",
   "execution_count": 302,
   "id": "tight-classic",
   "metadata": {
    "deletable": false,
    "editable": false,
    "nbgrader": {
     "cell_type": "code",
     "checksum": "076261aa788f643e21b2ca011eb49a25",
     "grade": true,
     "grade_id": "cell-e282aee0b81cce27",
     "locked": true,
     "points": 2,
     "schema_version": 3,
     "solution": false,
     "task": false
    }
   },
   "outputs": [],
   "source": [
    "# Exercise 18 test cell\n",
    "assert remove_duplicates([1,2,3,3,3,4,5,6,7,7,8]) == [1, 2, 3, 4, 5, 6, 7, 8]\n"
   ]
  },
  {
   "cell_type": "code",
   "execution_count": 303,
   "id": "printable-script",
   "metadata": {
    "deletable": false,
    "editable": false,
    "nbgrader": {
     "cell_type": "code",
     "checksum": "ac77cb68e0bcfdda709a29fd78e98632",
     "grade": true,
     "grade_id": "cell-0ee4d8aa6fbc4426",
     "locked": true,
     "points": 2,
     "schema_version": 3,
     "solution": false,
     "task": false
    }
   },
   "outputs": [],
   "source": [
    "# Exercise 18 test cell (hidden)"
   ]
  },
  {
   "cell_type": "code",
   "execution_count": 305,
   "id": "explicit-allah",
   "metadata": {
    "deletable": false,
    "nbgrader": {
     "cell_type": "code",
     "checksum": "f2abd0f3a4b11ae21193d07494ff9966",
     "grade": false,
     "grade_id": "cell-658df9587965071c",
     "locked": false,
     "schema_version": 3,
     "solution": true,
     "task": false
    }
   },
   "outputs": [],
   "source": [
    "# Ex19: List of proper divisors\n",
    "\n",
    "def proper_divisors(n):\n",
    "    # A proper divisor ofa  positive integer, n, is a positive integer less than n which divides\n",
    "    # evenly into n. Complete this function to compute all the proper divisors of a positive\n",
    "    # integer. The integer is passed to this function as the only parameter. The function will\n",
    "    # return a list of containing all of the proper divisors as its only reult. \n",
    "\n",
    "    # input: n (int)\n",
    "    # output: list\n",
    "\n",
    "    result = []\n",
    "    for i in range(1,n):\n",
    "        if n % i == 0:\n",
    "            result.append(i)\n",
    "    return result"
   ]
  },
  {
   "cell_type": "code",
   "execution_count": 306,
   "id": "extreme-gazette",
   "metadata": {
    "deletable": false,
    "editable": false,
    "nbgrader": {
     "cell_type": "code",
     "checksum": "9bf11cca813749c96ee0387aa95aa38b",
     "grade": true,
     "grade_id": "cell-07080b1cba1b07a0",
     "locked": true,
     "points": 2,
     "schema_version": 3,
     "solution": false,
     "task": false
    }
   },
   "outputs": [],
   "source": [
    "# Exercise 19 test cell\n",
    "assert proper_divisors(28) == [1, 2, 4, 7, 14]"
   ]
  },
  {
   "cell_type": "code",
   "execution_count": 307,
   "id": "rocky-cleaner",
   "metadata": {
    "deletable": false,
    "editable": false,
    "nbgrader": {
     "cell_type": "code",
     "checksum": "0c2d9c293f458433f4c34996921d476e",
     "grade": true,
     "grade_id": "cell-5c8065d0d450349a",
     "locked": true,
     "points": 2,
     "schema_version": 3,
     "solution": false,
     "task": false
    }
   },
   "outputs": [],
   "source": [
    "# Exercise 19 test cell (hidden)"
   ]
  },
  {
   "cell_type": "code",
   "execution_count": 312,
   "id": "alien-partner",
   "metadata": {
    "deletable": false,
    "nbgrader": {
     "cell_type": "code",
     "checksum": "616c47a3fa268115e8bfd1ea5eb799af",
     "grade": false,
     "grade_id": "cell-6967d2f5c29531b0",
     "locked": false,
     "schema_version": 3,
     "solution": true,
     "task": false
    }
   },
   "outputs": [],
   "source": [
    "#Ex20: Perfect Numbers\n",
    "def is_number_perfect(n):\n",
    "    # An integer, n, is said to be perfect when the sum of all of the proper divisors \n",
    "    # of n is equal to n. For example, 28 is a perfect number because its proper divisors\n",
    "    # are 1, 2, 4, 7, and 14 = 28 \n",
    "    # Complete this function to determine if a the number a perfect number or not. \n",
    "    # input: n (int)\n",
    "    # output: True or False (bool)\n",
    "\n",
    "\n",
    "    list_of_divisors = proper_divisors(n)\n",
    "    sum = 0\n",
    "    for i in list_of_divisors:\n",
    "        sum = sum + i\n",
    "    if sum == n:\n",
    "        return True\n",
    "    else:\n",
    "        return False"
   ]
  },
  {
   "cell_type": "code",
   "execution_count": 314,
   "id": "concerned-pilot",
   "metadata": {
    "deletable": false,
    "editable": false,
    "nbgrader": {
     "cell_type": "code",
     "checksum": "784cfc54925f343a404a7037107b07a2",
     "grade": true,
     "grade_id": "cell-4611b4772a5abc36",
     "locked": true,
     "points": 2,
     "schema_version": 3,
     "solution": false,
     "task": false
    }
   },
   "outputs": [],
   "source": [
    "# Exercise 20 test cell\n",
    "assert is_number_perfect(28) == True\n",
    "assert is_number_perfect(76) == False"
   ]
  },
  {
   "cell_type": "code",
   "execution_count": null,
   "id": "decent-spencer",
   "metadata": {
    "deletable": false,
    "editable": false,
    "nbgrader": {
     "cell_type": "code",
     "checksum": "1acffa50525226e6fecd9c5e2c2dca3b",
     "grade": true,
     "grade_id": "cell-0ba6c8ff7afe8991",
     "locked": true,
     "points": 2,
     "schema_version": 3,
     "solution": false,
     "task": false
    }
   },
   "outputs": [],
   "source": [
    "# Exercise 20 test cell (hidden)\n"
   ]
  },
  {
   "cell_type": "code",
   "execution_count": 414,
   "id": "controversial-surgeon",
   "metadata": {
    "deletable": false,
    "nbgrader": {
     "cell_type": "code",
     "checksum": "e8dad58edaeae919f7d4ead4cbc92666",
     "grade": false,
     "grade_id": "cell-29c946e813372f5f",
     "locked": false,
     "schema_version": 3,
     "solution": true,
     "task": false
    }
   },
   "outputs": [],
   "source": [
    "# Ex21: Line of Best Fit\n",
    "def best_line(points):\n",
    "    # Complete this function to determine the best line. \n",
    "    # https://www.varsitytutors.com/hotmath/hotmath_help/topics/line-of-best-fit\n",
    "    # input: points (list of tuples contain x, y values)\n",
    "    # output: (m, b) # round both values to two decimal places\n",
    "\n",
    "    \n",
    "    x_mean = 0\n",
    "    y_mean = 0\n",
    "    x_minus_mean = []\n",
    "    y_minus_mean = []\n",
    "    x_minus_mean_multi_y_minus_mean = []\n",
    "    addition_x_minus_mean_multi_y_minus_mean = 0\n",
    "    x_minus_mean_sq = []\n",
    "    addition_x_minus_mean_sq = 0\n",
    "    slope = 0.0\n",
    "    y_intercept = 0\n",
    "    for i in range(0, len(points)):\n",
    "        x_mean += points[i][0]\n",
    "        y_mean += points[i][1]\n",
    "    x_mean = x_mean / len(points)\n",
    "    y_mean = y_mean / len(points)\n",
    "    for i in range(0, len(points)):\n",
    "        x_minus_mean.append(points[i][0]-x_mean)\n",
    "        y_minus_mean.append(points[i][1]-y_mean)\n",
    "        x_minus_mean_multi_y_minus_mean.append(x_minus_mean[i] * y_minus_mean[i])\n",
    "        addition_x_minus_mean_multi_y_minus_mean = addition_x_minus_mean_multi_y_minus_mean + x_minus_mean_multi_y_minus_mean[i]\n",
    "        x_minus_mean_sq.append(x_minus_mean[i]**2)\n",
    "        addition_x_minus_mean_sq = addition_x_minus_mean_sq + x_minus_mean_sq[i]\n",
    "    slope = addition_x_minus_mean_multi_y_minus_mean/addition_x_minus_mean_sq\n",
    "    y_intercept = y_mean - (slope*x_mean)\n",
    "    #print(slope, y_intercept, y_mean, x_mean)\n",
    "    return (round(slope,2), round(y_intercept,2))"
   ]
  },
  {
   "cell_type": "code",
   "execution_count": 415,
   "id": "6281986e",
   "metadata": {},
   "outputs": [
    {
     "data": {
      "text/plain": [
       "(-1.11, 14.08)"
      ]
     },
     "execution_count": 415,
     "metadata": {},
     "output_type": "execute_result"
    }
   ],
   "source": [
    "points = (\n",
    "    (8, 3),\n",
    "    (2, 10),\n",
    "    (11, 3),\n",
    "    (6, 6),\n",
    "    (5, 8),\n",
    "    (4, 12),\n",
    "    (12, 1),\n",
    "    (9, 4),\n",
    "    (6, 9),\n",
    "    (1, 14),\n",
    ")\n",
    "\n",
    "best_line(points)"
   ]
  },
  {
   "cell_type": "code",
   "execution_count": 416,
   "id": "involved-column",
   "metadata": {
    "deletable": false,
    "editable": false,
    "nbgrader": {
     "cell_type": "code",
     "checksum": "2b781acf4cda56295a4224a2e477a574",
     "grade": true,
     "grade_id": "cell-13e17986e0d5080a",
     "locked": true,
     "points": 4,
     "schema_version": 3,
     "solution": false,
     "task": false
    }
   },
   "outputs": [],
   "source": [
    "# Exercise 21 test cell\n",
    "points = (\n",
    "    (8, 3),\n",
    "    (2, 10),\n",
    "    (11, 3),\n",
    "    (6, 6),\n",
    "    (5, 8),\n",
    "    (4, 12),\n",
    "    (12, 1),\n",
    "    (9, 4),\n",
    "    (6, 9),\n",
    "    (1, 14),\n",
    ")\n",
    "\n",
    "assert best_line(points) == (-1.11, 14.08)"
   ]
  },
  {
   "cell_type": "code",
   "execution_count": null,
   "id": "entitled-jewel",
   "metadata": {
    "deletable": false,
    "editable": false,
    "nbgrader": {
     "cell_type": "code",
     "checksum": "8640b3db7fdcf6d3681d95f964e9af27",
     "grade": true,
     "grade_id": "cell-06701dbdf8a04bd1",
     "locked": true,
     "points": 4,
     "schema_version": 3,
     "solution": false,
     "task": false
    }
   },
   "outputs": [],
   "source": [
    "# Exercise 21 test cell (hidden)"
   ]
  }
 ],
 "metadata": {
  "kernelspec": {
   "display_name": "Python 3 (ipykernel)",
   "language": "python",
   "name": "python3"
  },
  "language_info": {
   "codemirror_mode": {
    "name": "ipython",
    "version": 3
   },
   "file_extension": ".py",
   "mimetype": "text/x-python",
   "name": "python",
   "nbconvert_exporter": "python",
   "pygments_lexer": "ipython3",
   "version": "3.8.10"
  }
 },
 "nbformat": 4,
 "nbformat_minor": 5
}
