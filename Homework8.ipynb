{
 "cells": [
  {
   "cell_type": "markdown",
   "id": "e95bf5e1",
   "metadata": {},
   "source": [
    "Before you turn this problem in, make sure everything runs as expected. First, **restart the kernel** (in the menubar, select Kernel$\\rightarrow$Restart) and then **run all cells** (in the menubar, select Cell$\\rightarrow$Run All).\n",
    "\n",
    "Make sure you fill in any place that says `YOUR CODE HERE` or \"YOUR ANSWER HERE\", as well as your name and collaborators below:"
   ]
  },
  {
   "cell_type": "code",
   "execution_count": 6,
   "id": "17927a8c",
   "metadata": {},
   "outputs": [],
   "source": [
    "NAME = \"Tejas Yeshwantrao Wandile\"\n",
    "COLLABORATORS = \"\""
   ]
  },
  {
   "cell_type": "markdown",
   "id": "48f8453a",
   "metadata": {},
   "source": [
    "---"
   ]
  },
  {
   "cell_type": "markdown",
   "id": "mighty-checkout",
   "metadata": {
    "deletable": false,
    "editable": false,
    "nbgrader": {
     "cell_type": "markdown",
     "checksum": "5305870cecf2c738bf1e91d1a2b2cfd4",
     "grade": false,
     "grade_id": "cell-f40470ab2d1dcb51",
     "locked": true,
     "schema_version": 3,
     "solution": false,
     "task": false
    }
   },
   "source": [
    "# Homework 8\n",
    "Read the following link and complete this homework.\n",
    "https://www.codemag.com/Article/1711091/Implementing-Machine-Learning-Using-Python-and-Scikit-learn"
   ]
  },
  {
   "cell_type": "code",
   "execution_count": 4,
   "id": "worthy-portugal",
   "metadata": {
    "deletable": false,
    "editable": false,
    "nbgrader": {
     "cell_type": "code",
     "checksum": "c6b15224b56c37dc5c2457aa559d04e3",
     "grade": false,
     "grade_id": "cell-faa4a2432d2507a7",
     "locked": true,
     "schema_version": 3,
     "solution": false,
     "task": false
    }
   },
   "outputs": [],
   "source": [
    "import pandas as pd"
   ]
  },
  {
   "cell_type": "markdown",
   "id": "smooth-stage",
   "metadata": {
    "deletable": false,
    "editable": false,
    "nbgrader": {
     "cell_type": "markdown",
     "checksum": "038ae150202dfc9eadb8ead0ce51fa9f",
     "grade": false,
     "grade_id": "cell-2b18eef4f9e8f3d9",
     "locked": true,
     "schema_version": 3,
     "solution": false,
     "task": false
    }
   },
   "source": [
    "# Step 1: Getting the Titanic Dataset"
   ]
  },
  {
   "cell_type": "code",
   "execution_count": 5,
   "id": "contained-orbit",
   "metadata": {
    "deletable": false,
    "nbgrader": {
     "cell_type": "code",
     "checksum": "7d32df0f3f185635b7d95da2c42ad036",
     "grade": false,
     "grade_id": "cell-023793647b7f6e67",
     "locked": false,
     "schema_version": 3,
     "solution": true,
     "task": false
    }
   },
   "outputs": [],
   "source": [
    "def step1():\n",
    "    \"\"\"\n",
    "    Return a dataframe containing the Titantic dataset from the following URL\n",
    "    # URL: https://gist.githubusercontent.com/mkzia/aa4f293661dba857b8c4459c0095ac95/raw/8075037f6f7689a1786405c1bc8ea9471d3aa9c3/train.csv\n",
    "\n",
    "    \"\"\"\n",
    "    url = \"https://gist.githubusercontent.com/mkzia/aa4f293661dba857b8c4459c0095ac95/raw/8075037f6f7689a1786405c1bc8ea9471d3aa9c3/train.csv\"\n",
    "    df=pd.read_csv(url)\n",
    "    return df\n",
    "    "
   ]
  },
  {
   "cell_type": "code",
   "execution_count": 6,
   "id": "vocational-rehabilitation",
   "metadata": {
    "deletable": false,
    "editable": false,
    "nbgrader": {
     "cell_type": "code",
     "checksum": "72b6eaf364d68d5549f3c5a9e4909c8e",
     "grade": true,
     "grade_id": "cell-ed6da60cf0a5fc56",
     "locked": true,
     "points": 5,
     "schema_version": 3,
     "solution": false,
     "task": false
    }
   },
   "outputs": [],
   "source": [
    "df_from_func = step1()\n",
    "df_from_file = pd.read_csv('step1_output.csv')\n",
    "assert df_from_func.equals(df_from_file) == True\n"
   ]
  },
  {
   "cell_type": "markdown",
   "id": "running-height",
   "metadata": {
    "deletable": false,
    "editable": false,
    "nbgrader": {
     "cell_type": "markdown",
     "checksum": "f36ee6e45559feded9ec8576dd895366",
     "grade": false,
     "grade_id": "cell-f40ecabb1187fef3",
     "locked": true,
     "schema_version": 3,
     "solution": false,
     "task": false
    }
   },
   "source": [
    "# Step 2: Clean data"
   ]
  },
  {
   "cell_type": "code",
   "execution_count": 7,
   "id": "unsigned-hamburg",
   "metadata": {
    "deletable": false,
    "nbgrader": {
     "cell_type": "code",
     "checksum": "86ae3db9d52445d42d404e262523b286",
     "grade": false,
     "grade_id": "cell-09ac5c952374fa7f",
     "locked": false,
     "schema_version": 3,
     "solution": true,
     "task": false
    }
   },
   "outputs": [],
   "source": [
    "def step2(df):\n",
    "    \"\"\"\n",
    "    Modify df to drop the following columns:\n",
    "    PassengerId\n",
    "    Name\n",
    "    Ticket\n",
    "    Cabin\n",
    "    Hint: Just pass all the columns to the .drop() method as an array\n",
    "    \"\"\"\n",
    "    # YOUR CODE HERE\n",
    "    df=df.drop(columns=['PassengerId', 'Name','Ticket','Cabin'])\n",
    "    return df\n",
    "    "
   ]
  },
  {
   "cell_type": "code",
   "execution_count": 8,
   "id": "structural-commonwealth",
   "metadata": {
    "deletable": false,
    "editable": false,
    "nbgrader": {
     "cell_type": "code",
     "checksum": "74330cba3f3102c4848c887a911f299e",
     "grade": true,
     "grade_id": "cell-2056e88ecd121be1",
     "locked": true,
     "points": 5,
     "schema_version": 3,
     "solution": false,
     "task": false
    }
   },
   "outputs": [],
   "source": [
    "df_from_step1 = step1()\n",
    "df_from_func = step2(df_from_step1)\n",
    "df_from_file = pd.read_csv('step2_output.csv')\n",
    "assert df_from_func.equals(df_from_file) == True"
   ]
  },
  {
   "cell_type": "markdown",
   "id": "nuclear-arlington",
   "metadata": {
    "deletable": false,
    "editable": false,
    "nbgrader": {
     "cell_type": "markdown",
     "checksum": "8acfb200f7317feb0dba98131558bee0",
     "grade": false,
     "grade_id": "cell-1bec58abda1e974a",
     "locked": true,
     "schema_version": 3,
     "solution": false,
     "task": false
    }
   },
   "source": [
    "# Step 3: Drop NaNs and reindex\n",
    "You want to reindex so your index does not have missing values after you drop the NaNs. Remember, index is used \n",
    "to access a row. Notice how many rows you dropped!"
   ]
  },
  {
   "cell_type": "code",
   "execution_count": 9,
   "id": "moving-senegal",
   "metadata": {
    "deletable": false,
    "nbgrader": {
     "cell_type": "code",
     "checksum": "11a561993384d7317e6adcb39652fdfc",
     "grade": false,
     "grade_id": "cell-818d35e73cb1b82f",
     "locked": false,
     "schema_version": 3,
     "solution": true,
     "task": false
    }
   },
   "outputs": [],
   "source": [
    "def step3(df):\n",
    "    \"\"\"\n",
    "    Modify df to drop NaNs and reindex\n",
    "    \"\"\"\n",
    "    df=df.dropna()\n",
    "    df.reset_index(inplace=True)\n",
    "    df=df.drop(columns=['index'])\n",
    "    return df   "
   ]
  },
  {
   "cell_type": "code",
   "execution_count": 10,
   "id": "british-barbados",
   "metadata": {
    "deletable": false,
    "editable": false,
    "nbgrader": {
     "cell_type": "code",
     "checksum": "94042d22e0679d0b38b8ea93a319b59d",
     "grade": true,
     "grade_id": "cell-8c142adcb5eb7bed",
     "locked": true,
     "points": 5,
     "schema_version": 3,
     "solution": false,
     "task": false
    }
   },
   "outputs": [],
   "source": [
    "df_from_step1 = step1()\n",
    "df_from_step2 = step2(df_from_step1)\n",
    "df_from_func = step3(df_from_step2)\n",
    "df_from_file = pd.read_csv('step3_output.csv')\n",
    "assert df_from_func.equals(df_from_file) == True"
   ]
  },
  {
   "cell_type": "markdown",
   "id": "eight-module",
   "metadata": {
    "deletable": false,
    "editable": false,
    "nbgrader": {
     "cell_type": "markdown",
     "checksum": "ab1778a03a86fa6b46727db2f9e4f32d",
     "grade": false,
     "grade_id": "cell-4f308e7b07c36aa1",
     "locked": true,
     "schema_version": 3,
     "solution": false,
     "task": false
    }
   },
   "source": [
    "# Step 4: Encoding the Non-Numeric Fields\n",
    "\n",
    "Encode text fields to numbers"
   ]
  },
  {
   "cell_type": "code",
   "execution_count": 11,
   "id": "prescribed-posting",
   "metadata": {
    "deletable": false,
    "nbgrader": {
     "cell_type": "code",
     "checksum": "06761401d50690f2e3d01350df97b507",
     "grade": false,
     "grade_id": "cell-4deb84aa50ed364e",
     "locked": false,
     "schema_version": 3,
     "solution": true,
     "task": false
    }
   },
   "outputs": [],
   "source": [
    "def step4(df):\n",
    "    \"\"\"\n",
    "    Modify df to encode Sex and Embarked to encoded values.\n",
    "    \"\"\"\n",
    "    nums = {\"Sex\":     {\"male\": 1, \"female\": 0},\n",
    "                   \"Embarked\":     {\"S\": 2, \"C\": 0, \"Q\": 1}}\n",
    "    df = df.replace(nums)\n",
    "    return df   "
   ]
  },
  {
   "cell_type": "code",
   "execution_count": 12,
   "id": "superior-closer",
   "metadata": {
    "deletable": false,
    "editable": false,
    "nbgrader": {
     "cell_type": "code",
     "checksum": "130f0beac42789649aaccc3f36c1166a",
     "grade": true,
     "grade_id": "cell-6c1849ea490b6f32",
     "locked": true,
     "points": 5,
     "schema_version": 3,
     "solution": false,
     "task": false
    }
   },
   "outputs": [],
   "source": [
    "df_from_step1 = step1()\n",
    "df_from_step2 = step2(df_from_step1)\n",
    "df_from_step3 = step3(df_from_step2)\n",
    "df_from_func = step4(df_from_step3)\n",
    "df_from_file = pd.read_csv('step4_output.csv')\n",
    "assert df_from_func.equals(df_from_file) == True"
   ]
  },
  {
   "cell_type": "markdown",
   "id": "concrete-riverside",
   "metadata": {
    "deletable": false,
    "editable": false,
    "nbgrader": {
     "cell_type": "markdown",
     "checksum": "a25cd3ef86f08e0ff8989fc00a76098e",
     "grade": false,
     "grade_id": "cell-7f1743f397b5806c",
     "locked": true,
     "schema_version": 3,
     "solution": false,
     "task": false
    }
   },
   "source": [
    "# Step 5: Making Fields Categorical\n",
    "\n",
    "Turn values that are not continues values into categorical values"
   ]
  },
  {
   "cell_type": "code",
   "execution_count": 13,
   "id": "guilty-wholesale",
   "metadata": {
    "deletable": false,
    "nbgrader": {
     "cell_type": "code",
     "checksum": "8c7262c6aab27eef0d2c6c70dbc87182",
     "grade": false,
     "grade_id": "cell-aa1b84a45200ba77",
     "locked": false,
     "schema_version": 3,
     "solution": true,
     "task": false
    }
   },
   "outputs": [],
   "source": [
    "def step5(df):\n",
    "    \"\"\"\n",
    "    Modify df to make Pclass, Sex, Embarked, and Survived a categorical field\n",
    "    \"\"\"\n",
    "    # YOUR CODE HERE\n",
    "    df['Pclass'] = pd.Categorical(df.Pclass)\n",
    "    df['Sex'] = pd.Categorical(df.Sex)\n",
    "    df['Embarked'] = pd.Categorical(df.Embarked)\n",
    "    df['Survived'] = pd.Categorical(df.Survived)\n",
    "    return df   "
   ]
  },
  {
   "cell_type": "code",
   "execution_count": 14,
   "id": "sunrise-class",
   "metadata": {
    "deletable": false,
    "editable": false,
    "nbgrader": {
     "cell_type": "code",
     "checksum": "b1a261a5ff709b95e6affbffe82dc9a7",
     "grade": true,
     "grade_id": "cell-8226a758bb78aa66",
     "locked": true,
     "points": 5,
     "schema_version": 3,
     "solution": false,
     "task": false
    }
   },
   "outputs": [],
   "source": [
    "df_from_step1 = step1()\n",
    "df_from_step2 = step2(df_from_step1)\n",
    "df_from_step3 = step3(df_from_step2)\n",
    "df_from_step4 = step4(df_from_step3)\n",
    "df_from_func = step5(df_from_step4)\n",
    "df_from_file = pd.read_csv('step5_output.csv', skiprows=[0], header=None)\n",
    "\n",
    "df_from_file.columns = ['', 1]\n",
    "df_from_file.set_index('', inplace=True)\n",
    "df_from_file.columns = ['']\n",
    "\n",
    "df_from_func = pd.DataFrame(df_from_func.dtypes)\n",
    "df_from_func.columns = ['']\n",
    "\n",
    "assert df_from_func.equals(df_from_file) == True"
   ]
  },
  {
   "cell_type": "markdown",
   "id": "immune-beaver",
   "metadata": {
    "deletable": false,
    "editable": false,
    "nbgrader": {
     "cell_type": "markdown",
     "checksum": "d8163fcb80f0579e756285712ba7b09d",
     "grade": false,
     "grade_id": "cell-cc02fd8151b9ba62",
     "locked": true,
     "schema_version": 3,
     "solution": false,
     "task": false
    }
   },
   "source": [
    "# Step 6: \n",
    "1. Split dataframe into feature and label\n",
    "2. Do train and test split; USE: random_state = 1\n",
    "3. Use LogisticRegression() for classification\n",
    "4. Return accuracy and confusion matrix"
   ]
  },
  {
   "cell_type": "code",
   "execution_count": 25,
   "id": "absent-morrison",
   "metadata": {
    "deletable": false,
    "nbgrader": {
     "cell_type": "code",
     "checksum": "2c6809ae1aa8bd2fb2af313138d768f3",
     "grade": false,
     "grade_id": "cell-e94c61c148175fb4",
     "locked": false,
     "schema_version": 3,
     "solution": true,
     "task": false
    }
   },
   "outputs": [],
   "source": [
    "def step6(df):\n",
    "    \"\"\"\n",
    "    1. Split dataframe into feature and label\n",
    "    2. Do train and test split; USE: random_state = 1\n",
    "    4. Use LogisticRegression() for classification\n",
    "    3. Return accuracy and confusion matrix\n",
    "    \n",
    "    Use  metrics.confusion_matrix to calculate the confusion matrix\n",
    "    # https://towardsdatascience.com/understanding-confusion-matrix-a9ad42dcfd62\n",
    "    # https://scikit-learn.org/stable/modules/generated/sklearn.metrics.confusion_matrix.html\n",
    "    # IMPORTANT !!!! \n",
    "    # https://stackoverflow.com/questions/56078203/why-scikit-learn-confusion-matrix-is-reversed\n",
    "    \n",
    "    From the confusion matrix get TN, FP, FN, TP\n",
    "    \n",
    "    return --> accuracy, TN, FP, FN, TP; \n",
    "    Hint: round accuracy to 4 decimal places\n",
    "    \n",
    "    \"\"\"\n",
    "    from sklearn.model_selection import train_test_split\n",
    "    from sklearn import linear_model\n",
    "    from sklearn import metrics\n",
    "    \n",
    "    df_features = df.drop('Survived',axis = 1)\n",
    "    df_label    = df['Survived']\n",
    "    train_features,test_features,train_label,test_label = train_test_split(df_features,df_label,test_size = 0.25,random_state = 1,stratify = df[\"Survived\"])\n",
    "    \n",
    "    logistic_regress_model = linear_model.LogisticRegression()\n",
    "    logistic_regress_model.fit(X = train_features ,\n",
    "    y = train_label)\n",
    "    predicted = logistic_regress_model.predict(X=test_features)\n",
    "    \n",
    "    confusion_matrix = metrics.confusion_matrix(y_true = test_label,y_pred = predicted)  \n",
    "    accuracy = round(logistic_regress_model.score(X = test_features, y = test_label),4)\n",
    "    TN = confusion_matrix[0][0]\n",
    "    FP = confusion_matrix[0][1]\n",
    "    FN = confusion_matrix[1][0]\n",
    "    TP = confusion_matrix[1][1]\n",
    "    return accuracy, TN, FP, FN, TP "
   ]
  },
  {
   "cell_type": "code",
   "execution_count": 26,
   "id": "bright-testimony",
   "metadata": {
    "deletable": false,
    "editable": false,
    "nbgrader": {
     "cell_type": "code",
     "checksum": "4ef95f3f6a8b6f7094d5a8079f019426",
     "grade": true,
     "grade_id": "cell-527b3a7642f81e91",
     "locked": true,
     "points": 5,
     "schema_version": 3,
     "solution": false,
     "task": false
    }
   },
   "outputs": [],
   "source": [
    "df_from_step1 = step1()\n",
    "df_from_step2 = step2(df_from_step1)\n",
    "df_from_step3 = step3(df_from_step2)\n",
    "df_from_step4 = step4(df_from_step3)\n",
    "df_from_step5 = step5(df_from_step4)\n",
    "accuracy, TN, FP, FN, TP = step6(df_from_step5)\n",
    "\n",
    "assert accuracy == 0.7978\n",
    "assert TN == 90\n",
    "assert FP == 16\n",
    "assert FN == 20\n",
    "assert TP == 52"
   ]
  },
  {
   "cell_type": "code",
   "execution_count": null,
   "id": "b359647e",
   "metadata": {},
   "outputs": [],
   "source": []
  }
 ],
 "metadata": {
  "kernelspec": {
   "display_name": "Python 3 (ipykernel)",
   "language": "python",
   "name": "python3"
  },
  "language_info": {
   "codemirror_mode": {
    "name": "ipython",
    "version": 3
   },
   "file_extension": ".py",
   "mimetype": "text/x-python",
   "name": "python",
   "nbconvert_exporter": "python",
   "pygments_lexer": "ipython3",
   "version": "3.8.10"
  }
 },
 "nbformat": 4,
 "nbformat_minor": 5
}
